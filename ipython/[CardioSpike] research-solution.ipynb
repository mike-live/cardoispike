{
 "cells": [
  {
   "cell_type": "code",
   "execution_count": 6,
   "metadata": {},
   "outputs": [],
   "source": [
    "import os\n",
    "import numpy as np\n",
    "import pandas as pd\n",
    "import seaborn as sns\n",
    "from collections import Counter\n",
    "from tqdm.notebook import tqdm\n",
    "from matplotlib import pyplot as plt\n",
    "from sklearn.preprocessing import StandardScaler\n",
    "\n",
    "from scipy.fft import fft, ifft"
   ]
  },
  {
   "cell_type": "code",
   "execution_count": 7,
   "metadata": {},
   "outputs": [],
   "source": [
    "# %config InlineBackend.figure_format = 'retina'\n",
    "%matplotlib inline\n",
    "import seaborn as sns\n",
    "sns.set_style('white')\n",
    "\n",
    "import numpy as np\n",
    "import scipy as sp\n",
    "from scipy import signal\n",
    "import matplotlib.pyplot as plt"
   ]
  },
  {
   "cell_type": "code",
   "execution_count": 8,
   "metadata": {},
   "outputs": [
    {
     "data": {
      "text/html": [
       "<div>\n",
       "<style scoped>\n",
       "    .dataframe tbody tr th:only-of-type {\n",
       "        vertical-align: middle;\n",
       "    }\n",
       "\n",
       "    .dataframe tbody tr th {\n",
       "        vertical-align: top;\n",
       "    }\n",
       "\n",
       "    .dataframe thead th {\n",
       "        text-align: right;\n",
       "    }\n",
       "</style>\n",
       "<table border=\"1\" class=\"dataframe\">\n",
       "  <thead>\n",
       "    <tr style=\"text-align: right;\">\n",
       "      <th></th>\n",
       "      <th>id</th>\n",
       "      <th>time</th>\n",
       "      <th>x</th>\n",
       "      <th>y</th>\n",
       "    </tr>\n",
       "  </thead>\n",
       "  <tbody>\n",
       "    <tr>\n",
       "      <th>0</th>\n",
       "      <td>1</td>\n",
       "      <td>0</td>\n",
       "      <td>800</td>\n",
       "      <td>0</td>\n",
       "    </tr>\n",
       "    <tr>\n",
       "      <th>1</th>\n",
       "      <td>1</td>\n",
       "      <td>780</td>\n",
       "      <td>780</td>\n",
       "      <td>0</td>\n",
       "    </tr>\n",
       "    <tr>\n",
       "      <th>2</th>\n",
       "      <td>1</td>\n",
       "      <td>1572</td>\n",
       "      <td>792</td>\n",
       "      <td>0</td>\n",
       "    </tr>\n",
       "    <tr>\n",
       "      <th>3</th>\n",
       "      <td>1</td>\n",
       "      <td>2392</td>\n",
       "      <td>820</td>\n",
       "      <td>0</td>\n",
       "    </tr>\n",
       "    <tr>\n",
       "      <th>4</th>\n",
       "      <td>1</td>\n",
       "      <td>3196</td>\n",
       "      <td>804</td>\n",
       "      <td>0</td>\n",
       "    </tr>\n",
       "  </tbody>\n",
       "</table>\n",
       "</div>"
      ],
      "text/plain": [
       "   id  time    x  y\n",
       "0   1     0  800  0\n",
       "1   1   780  780  0\n",
       "2   1  1572  792  0\n",
       "3   1  2392  820  0\n",
       "4   1  3196  804  0"
      ]
     },
     "execution_count": 8,
     "metadata": {},
     "output_type": "execute_result"
    }
   ],
   "source": [
    "data = pd.read_csv('../data/train.csv')\n",
    "data.head()"
   ]
  },
  {
   "cell_type": "code",
   "execution_count": 9,
   "metadata": {},
   "outputs": [],
   "source": [
    "# #для нейронок\n",
    "# scaler = StandardScaler()\n",
    "# scaler.fit(data.x.to_numpy().reshape(-1, 1))\n",
    "# data.x = scaler.transform(data.x.to_numpy().reshape(-1, 1))\n",
    "# data.head()"
   ]
  },
  {
   "cell_type": "code",
   "execution_count": 10,
   "metadata": {},
   "outputs": [
    {
     "data": {
      "text/html": [
       "<div>\n",
       "<style scoped>\n",
       "    .dataframe tbody tr th:only-of-type {\n",
       "        vertical-align: middle;\n",
       "    }\n",
       "\n",
       "    .dataframe tbody tr th {\n",
       "        vertical-align: top;\n",
       "    }\n",
       "\n",
       "    .dataframe thead th {\n",
       "        text-align: right;\n",
       "    }\n",
       "</style>\n",
       "<table border=\"1\" class=\"dataframe\">\n",
       "  <thead>\n",
       "    <tr style=\"text-align: right;\">\n",
       "      <th></th>\n",
       "      <th>id</th>\n",
       "      <th>time</th>\n",
       "      <th>x</th>\n",
       "      <th>y</th>\n",
       "    </tr>\n",
       "  </thead>\n",
       "  <tbody>\n",
       "    <tr>\n",
       "      <th>0</th>\n",
       "      <td>81</td>\n",
       "      <td>0</td>\n",
       "      <td>576</td>\n",
       "      <td>0</td>\n",
       "    </tr>\n",
       "    <tr>\n",
       "      <th>1</th>\n",
       "      <td>81</td>\n",
       "      <td>568</td>\n",
       "      <td>568</td>\n",
       "      <td>0</td>\n",
       "    </tr>\n",
       "    <tr>\n",
       "      <th>2</th>\n",
       "      <td>81</td>\n",
       "      <td>1140</td>\n",
       "      <td>572</td>\n",
       "      <td>0</td>\n",
       "    </tr>\n",
       "    <tr>\n",
       "      <th>3</th>\n",
       "      <td>81</td>\n",
       "      <td>1716</td>\n",
       "      <td>576</td>\n",
       "      <td>0</td>\n",
       "    </tr>\n",
       "    <tr>\n",
       "      <th>4</th>\n",
       "      <td>81</td>\n",
       "      <td>2284</td>\n",
       "      <td>568</td>\n",
       "      <td>0</td>\n",
       "    </tr>\n",
       "  </tbody>\n",
       "</table>\n",
       "</div>"
      ],
      "text/plain": [
       "   id  time    x  y\n",
       "0  81     0  576  0\n",
       "1  81   568  568  0\n",
       "2  81  1140  572  0\n",
       "3  81  1716  576  0\n",
       "4  81  2284  568  0"
      ]
     },
     "execution_count": 10,
     "metadata": {},
     "output_type": "execute_result"
    }
   ],
   "source": [
    "test = pd.read_csv('../data/test.csv')\n",
    "test['y'] = 0\n",
    "test.head()"
   ]
  },
  {
   "cell_type": "code",
   "execution_count": 11,
   "metadata": {},
   "outputs": [],
   "source": [
    "import tensorflow as tf\n",
    "import numpy as np\n",
    "import pandas as pd\n",
    "from tqdm import tqdm_notebook\n",
    "\n",
    "\n",
    "features = [\n",
    "            'x',\n",
    "            'x_diff_1', 'x_diff_2','x_diff_3','x_diff_4',#'x_diff_5','x_diff_6',#'time_diff',\n",
    "            'norm_diff_1', 'norm_diff_2','norm_diff_3','norm_diff_4',\n",
    "            'mean_2','mean_4','mean_6',# 'mean_20', 'mean_50',\n",
    "            'std_2','std_4','std_6', #'std_20', 'std_50',\n",
    "            'norm_2','norm_4','norm_6', #'norm_20', 'norm_50',\n",
    "            'diff_with_mean_2','diff_with_mean_4','diff_with_mean_6',\n",
    "            'add_std_2', 'minus_std_2', 'add_2std_2', 'minus_2std_2', 'add_15std_2', 'minus_15std_2',\n",
    "            'add_std_4', 'minus_std_4', 'add_2std_4', 'minus_2std_4', 'add_15std_4', 'minus_15std_4',\n",
    "            'add_std_6', 'minus_std_6', 'add_2std_6', 'minus_2std_6', 'add_15std_6', 'minus_15std_6',\n",
    "            'x_log_relative', 'rolling_mean', 'rolling_mean_rel'\n",
    "]\n",
    "\n",
    "CHUNK_LEN = 10\n",
    "def process_df(df, _id, chunk_len=32, aug=False):\n",
    "        seq_df = df[df.id==_id].reset_index(drop=True)\n",
    "        if aug:\n",
    "            seq_df.x = add_noize(seq_df.x.values)  \n",
    "#         print(seq_df.shape)\n",
    "#         print(seq_df.columns)\n",
    "# ['id', 'time', 'x', 'y'],\n",
    "        x1 = np.mean(seq_df.x.values[:20])\n",
    "        x2 = np.mean(seq_df.x.values[-20:])\n",
    "        t0 = seq_df.time.values[0]\n",
    "        t1 = seq_df.time.values[-1]\n",
    "        start_df = []\n",
    "        for i in range(chunk_len // 2):\n",
    "            start_df.insert(0, [_id, t0 - (i+1) * 600, x1, 0])\n",
    "        end_df = []\n",
    "        for i in range(chunk_len // 2):\n",
    "            end_df.append([_id, t1 + (i+1) * 600, x2, 0])\n",
    "        start_df = pd.DataFrame(start_df, columns=['id', 'time', 'x', 'y'])\n",
    "        end_df = pd.DataFrame(end_df, columns=['id', 'time', 'x', 'y'])\n",
    "        seq_df = pd.concat([start_df, seq_df, end_df])\n",
    "#         print(seq_df.shape)\n",
    "    \n",
    "        \n",
    "        seq_df['x_relative'] = seq_df.x / seq_df.x.shift(1)\n",
    "        seq_df['x_log_relative'] = np.log(seq_df['x_relative'])\n",
    "        seq_df = seq_df.fillna(method='ffill')\n",
    "        \n",
    "        seq_df['rolling_mean'] = seq_df['x'].rolling(window=5).max()\n",
    "        seq_df['rolling_mean_rel'] = seq_df['x_log_relative'].rolling(window=5).max()\n",
    "        \n",
    "        seq_df['time_diff'] = seq_df.time.diff()\n",
    "        for i in range(12):\n",
    "            seq_df[f'x_diff_{i + 1}'] = seq_df.x.diff(i + 1).fillna(0)\n",
    "        for i in range(12):\n",
    "            seq_df[f'x_diff_front_{i + 1}'] = seq_df.x.diff(-(i + 1)).fillna(0)\n",
    "    #################################### скользящие средние и дисперсии ###########################\n",
    "        sizes = [2, 4, 6, 20, 50]\n",
    "        for i in sizes:\n",
    "            m, s = sliding(seq_df.x.values, i)\n",
    "            seq_df[f'mean_{i}'] = m\n",
    "            seq_df[f'std_{i}'] = s\n",
    "#             seq_df[f'add_std_{i}'] = np.array(seq_df.x.values) + np.array(s)\n",
    "#             seq_df[f'minus_std_{i}'] = np.array(seq_df.x.values) - np.array(s)\n",
    "#             seq_df[f'add_2std_{i}'] = np.array(seq_df.x.values) + (np.array(s) / 2)\n",
    "#             seq_df[f'minus_2std_{i}'] = np.array(seq_df.x.values) - (np.array(s) / 2)\n",
    "            seq_df[f'add_std_{i}'] = (np.array(m) + np.array(s)) - np.array(seq_df.x.values)\n",
    "            seq_df[f'minus_std_{i}'] = np.array(seq_df.x.values) - (np.array(m) - np.array(s))\n",
    "            seq_df[f'add_2std_{i}'] = (np.array(m) + np.array(s)/2) - np.array(seq_df.x.values)\n",
    "            seq_df[f'minus_2std_{i}'] = np.array(seq_df.x.values) - (np.array(m) - np.array(s)/2)\n",
    "            seq_df[f'add_15std_{i}'] = (np.array(m) + 1.5*np.array(s)) - np.array(seq_df.x.values)\n",
    "            seq_df[f'minus_15std_{i}'] = np.array(seq_df.x.values) - (np.array(m) - 1.5*np.array(s))\n",
    "            seq_df[f'norm_{i}'] = (seq_df.x.values - np.array(m)) / (np.array(s) + 1e-3)\n",
    "            seq_df[f'diff_with_mean_{i}'] = seq_df.x.values - np.array(m)\n",
    "        \n",
    "        for i in range(12):\n",
    "            seq_df[f'norm_diff_{i + 1}'] = seq_df['norm_6'].diff(i + 1).fillna(0)\n",
    "        for i in range(12):\n",
    "            seq_df[f'norm_diff_front_{i + 1}'] = seq_df['norm_6'].diff(-(i + 1)).fillna(0)\n",
    "        return seq_df\n",
    "def add_noize(a):\n",
    "    return a + np.random.normal(0,10, len(a))\n",
    "def get_check(df, _id,\n",
    "                      chunk_len=32, \n",
    "                      is_one_hot_y=False,\n",
    "                      x_column='x',\n",
    "                      y_column='y',\n",
    "                      N_CLASS=2,\n",
    "                     ):\n",
    "    X = []\n",
    "    Y = []\n",
    "    id2process_dct = {}\n",
    "    seq_ids = list(df.id.unique())\n",
    "    #for _id in tqdm_notebook(seq_ids):\n",
    "    \n",
    "    seq_df = process_df(df, _id, chunk_len=CHUNK_LEN)\n",
    "    id2process_dct[_id] = seq_df \n",
    "        \n",
    "#     for seq_id in tqdm_notebook(seq_ids):\n",
    "    seq_id = _id\n",
    "    seq_df = id2process_dct[seq_id]\n",
    "    seq_df = seq_df.fillna(0)\n",
    "    seq_len = len(seq_df)\n",
    "#     n_slices = seq_len // chunk_len\n",
    "\n",
    "    for i in range(len(seq_df) - chunk_len):\n",
    "        slice_df = seq_df.iloc[i:i+chunk_len]\n",
    "        X.append(slice_df[features].values)\n",
    "        y = slice_df['y'].tolist()[len(slice_df) // 2]\n",
    "        if is_one_hot_y:\n",
    "            y = tf.keras.utils.to_categorical(y, num_classes=N_CLASS, dtype='float32')\n",
    "        Y.append(y)\n",
    "\n",
    "\n",
    "    X = np.array(X, dtype='float32')\n",
    "    Y = np.array(Y, dtype='int')\n",
    "    return seq_df.time.values, X, seq_df.x.values, seq_df.y.values\n",
    "\n",
    "def get_smart_dataset(df, seq_ids_train, seq_ids_val, seq_ids_test,\n",
    "                      chunk_len=32, \n",
    "                      is_one_hot_y=False,\n",
    "                      x_column='x',\n",
    "                      y_column='y',\n",
    "                      N_CLASS=2,\n",
    "                     ):\n",
    "    X_train, X_val, X_test = [], [], []\n",
    "    Y_train, Y_val, Y_test = [], [], []\n",
    "    id2process_dct = {}\n",
    "    \n",
    "#     seq_ids = list(df.id.unique())\n",
    "#     t1, t2 = int(0.7*len(seq_ids)), int(0.9*len(seq_ids))\n",
    "#     seq_ids_train = seq_ids[:t1]\n",
    "#     seq_ids_val = seq_ids[t1:t2]\n",
    "#     seq_ids_test = seq_ids[t2:]\n",
    "    \n",
    "#     for _id in tqdm_notebook(seq_ids):\n",
    "#         seq_df = process_df(df, _id)\n",
    "                \n",
    "#         id2process_dct[_id] = seq_df \n",
    "     \n",
    "    #### train\n",
    "    for seq_id in tqdm_notebook(seq_ids_train):\n",
    "    \n",
    "#         seq_df = id2process_dct[seq_id]\n",
    "        seq_df = process_df(df, seq_id, chunk_len=CHUNK_LEN)\n",
    "        seq_df = seq_df.fillna(0)\n",
    "        seq_len = len(seq_df)\n",
    "        n_slices = seq_len // chunk_len\n",
    "\n",
    "        for i in range(len(seq_df) - chunk_len):\n",
    "            slice_df = seq_df.iloc[i:i+chunk_len]\n",
    "            X_train.append(slice_df[features].values)\n",
    "            y = slice_df['y'].tolist()[len(slice_df) // 2]\n",
    "#             if is_one_hot_y:\n",
    "#                 y = tf.keras.utils.to_categorical(y, num_classes=N_CLASS, dtype='float32')\n",
    "            Y_train.append(y)\n",
    "            \n",
    "#         ################## aug\n",
    "#         for i in range(10):\n",
    "#             seq_df = process_df(df, seq_id, aug=True)\n",
    "#             seq_len = len(seq_df)\n",
    "#             n_slices = seq_len // chunk_len\n",
    "\n",
    "#             for i in range(len(seq_df) - chunk_len):\n",
    "#                 slice_df = seq_df.iloc[i:i+chunk_len]\n",
    "#                 X_train.append(slice_df[features].values)\n",
    "#                 y = slice_df['y'].tolist()[len(slice_df) // 2]\n",
    "# #                 if is_one_hot_y:\n",
    "# #                     y = tf.keras.utils.to_categorical(y, num_classes=N_CLASS, dtype='float32')\n",
    "#                 Y_train.append(y)\n",
    "        #######################\n",
    "    ##### val\n",
    "    for seq_id in tqdm_notebook(seq_ids_val):\n",
    "    \n",
    "#         seq_df = id2process_dct[seq_id]\n",
    "        seq_df = process_df(df, seq_id, chunk_len=CHUNK_LEN)\n",
    "        seq_df = seq_df.fillna(0)\n",
    "        seq_len = len(seq_df)\n",
    "        n_slices = seq_len // chunk_len\n",
    "\n",
    "        for i in range(len(seq_df) - chunk_len):\n",
    "            slice_df = seq_df.iloc[i:i+chunk_len]\n",
    "            X_val.append(slice_df[features].values)\n",
    "            y = slice_df['y'].tolist()[len(slice_df) // 2]\n",
    "#             if is_one_hot_y:\n",
    "#                 y = tf.keras.utils.to_categorical(y, num_classes=N_CLASS, dtype='float32')\n",
    "            Y_val.append(y)\n",
    "\n",
    "            \n",
    "    #### test\n",
    "    for seq_id in tqdm_notebook(seq_ids_test):\n",
    "    \n",
    "#         seq_df = id2process_dct[seq_id]\n",
    "        seq_df = process_df(df, seq_id, chunk_len=CHUNK_LEN)\n",
    "        seq_df = seq_df.fillna(0)\n",
    "        seq_len = len(seq_df)\n",
    "        n_slices = seq_len // chunk_len\n",
    "\n",
    "        for i in range(len(seq_df) - chunk_len):\n",
    "            slice_df = seq_df.iloc[i:i+chunk_len]\n",
    "            X_test.append(slice_df[features].values)\n",
    "            y = slice_df['y'].tolist()[len(slice_df) // 2]\n",
    "#             if is_one_hot_y:\n",
    "#                 y = tf.keras.utils.to_categorical(y, num_classes=N_CLASS, dtype='float32')\n",
    "            Y_test.append(y)\n",
    "\n",
    "    X_train = np.array(X_train, dtype='float32')\n",
    "    Y_train = np.array(Y_train, dtype='int')\n",
    "    X_val = np.array(X_val, dtype='float32')\n",
    "    Y_val = np.array(Y_val, dtype='int')\n",
    "    X_test = np.array(X_test, dtype='float32')\n",
    "    Y_test = np.array(Y_test, dtype='int')\n",
    "    return X_train, Y_train, X_val, Y_val, X_test, Y_test, seq_ids_train, seq_ids_val, seq_ids_test"
   ]
  },
  {
   "cell_type": "code",
   "execution_count": 13,
   "metadata": {},
   "outputs": [
    {
     "data": {
      "image/png": "[encoded data removed]",
      "text/plain": [
       "<Figure size 1080x216 with 1 Axes>"
      ]
     },
     "metadata": {},
     "output_type": "display_data"
    }
   ],
   "source": [
    "def sliding(x, len_):\n",
    "    x = [x[0]] * (len_ // 2) + list(x) + [x[-1]] * (len_ // 2)\n",
    "    mean, std = [], []\n",
    "    for i in range(0, len(x)-len_, 1):\n",
    "#         print()\n",
    "        mean.append(np.mean(x[i : i+len_]))\n",
    "        std.append(np.std(x[i : i+len_]))\n",
    "    return mean, std\n",
    "\n",
    "x = data[data.id == 6].x.values\n",
    "time = data[data.id == 6].time.values\n",
    "y = data[data.id == 6].y.values\n",
    "mean, std = sliding(x, 6)\n",
    "\n",
    "plt.figure(figsize=(15,3))\n",
    "plt.plot(time, x, 'r')\n",
    "plt.plot(time, mean, 'g')\n",
    "plt.scatter(time[y == 1], x[y == 1], s=90, c='g', label='gt')\n",
    "plt.plot(time, np.array(mean) - np.array(std), 'b')\n",
    "plt.plot(time, np.array(mean) + np.array(std), 'b')\n",
    "plt.show()"
   ]
  },
  {
   "cell_type": "code",
   "execution_count": 14,
   "metadata": {
    "scrolled": true
   },
   "outputs": [
    {
     "name": "stderr",
     "output_type": "stream",
     "text": [
      "C:\\Users\\vadik\\AppData\\Roaming\\Python\\Python37\\site-packages\\ipykernel_launcher.py:194: TqdmDeprecationWarning: This function will be removed in tqdm==5.0.0\n",
      "Please use `tqdm.notebook.tqdm` instead of `tqdm.tqdm_notebook`\n"
     ]
    },
    {
     "data": {
      "application/vnd.jupyter.widget-view+json": {
       "model_id": "0d4b0ac4724a454d9135bcb4ad2a26c4",
       "version_major": 2,
       "version_minor": 0
      },
      "text/plain": [
       "HBox(children=(FloatProgress(value=0.0, max=229.0), HTML(value='')))"
      ]
     },
     "metadata": {},
     "output_type": "display_data"
    },
    {
     "name": "stdout",
     "output_type": "stream",
     "text": [
      "\n"
     ]
    },
    {
     "name": "stderr",
     "output_type": "stream",
     "text": [
      "C:\\Users\\vadik\\AppData\\Roaming\\Python\\Python37\\site-packages\\ipykernel_launcher.py:225: TqdmDeprecationWarning: This function will be removed in tqdm==5.0.0\n",
      "Please use `tqdm.notebook.tqdm` instead of `tqdm.tqdm_notebook`\n"
     ]
    },
    {
     "data": {
      "application/vnd.jupyter.widget-view+json": {
       "model_id": "97d77eba4c7c4cd0994a87a05f5d10ef",
       "version_major": 2,
       "version_minor": 0
      },
      "text/plain": [
       "HBox(children=(FloatProgress(value=0.0, max=46.0), HTML(value='')))"
      ]
     },
     "metadata": {},
     "output_type": "display_data"
    },
    {
     "name": "stdout",
     "output_type": "stream",
     "text": [
      "\n"
     ]
    },
    {
     "name": "stderr",
     "output_type": "stream",
     "text": [
      "C:\\Users\\vadik\\AppData\\Roaming\\Python\\Python37\\site-packages\\ipykernel_launcher.py:243: TqdmDeprecationWarning: This function will be removed in tqdm==5.0.0\n",
      "Please use `tqdm.notebook.tqdm` instead of `tqdm.tqdm_notebook`\n"
     ]
    },
    {
     "data": {
      "application/vnd.jupyter.widget-view+json": {
       "model_id": "1133e4da97574ff4a1c9b8256201dad3",
       "version_major": 2,
       "version_minor": 0
      },
      "text/plain": [
       "HBox(children=(FloatProgress(value=0.0, max=23.0), HTML(value='')))"
      ]
     },
     "metadata": {},
     "output_type": "display_data"
    },
    {
     "name": "stdout",
     "output_type": "stream",
     "text": [
      "\n",
      "(60487, 10, 42) (60487,)\n"
     ]
    }
   ],
   "source": [
    "seq_ids = list(data.id.unique())\n",
    "np.random.shuffle(seq_ids)\n",
    "# print(seq_ids)\n",
    "t1, t2 = int(0.7*len(seq_ids)), int(0.9*len(seq_ids))\n",
    "seq_ids_train = seq_ids#[:t1]\n",
    "seq_ids_val = seq_ids[t1:t2]\n",
    "seq_ids_test = seq_ids[t2:]\n",
    "\n",
    "x_train, y_train, x_val, y_val, x_test, y_test, seq_ids_train, seq_ids_val, seq_ids_test = get_smart_dataset(data, seq_ids_train, seq_ids_val, seq_ids_test, chunk_len=CHUNK_LEN)\n",
    "print(x_train.shape, y_train.shape)"
   ]
  },
  {
   "cell_type": "code",
   "execution_count": 15,
   "metadata": {},
   "outputs": [
    {
     "name": "stdout",
     "output_type": "stream",
     "text": [
      "(60487, 10, 42)\n",
      "(30243, 10, 42)\n"
     ]
    }
   ],
   "source": [
    "print(x_train.shape)\n",
    "x_train = x_train[:x_train.shape[0] // 2, :, :]\n",
    "print(x_train.shape)"
   ]
  },
  {
   "cell_type": "code",
   "execution_count": 21,
   "metadata": {},
   "outputs": [
    {
     "name": "stdout",
     "output_type": "stream",
     "text": [
      "Explained info: 73.0%\n"
     ]
    }
   ],
   "source": [
    "from sklearn.decomposition import PCA\n",
    "\n",
    "\n",
    "pca_transformer = PCA(n_components=5).fit(x_train[:,:, 0])\n",
    "X_pca = pca_transformer.transform(x_train[:,:, 0])\n",
    "print(f'Explained info: {round(sum(pca_transformer.explained_variance_ratio_)*100)}%')\n",
    "\n",
    "# df['PCA_1'] = X_pca[:, 0]\n",
    "# df['PCA_2'] = X_pca[:, 1]\n",
    "# df['PCA_3'] = X_pca[:, 2]\n",
    "# X_pca.shape, x_train.shape, X.shape"
   ]
  },
  {
   "cell_type": "code",
   "execution_count": 22,
   "metadata": {},
   "outputs": [],
   "source": [
    "import pickle\n",
    "\n",
    "WEIGHTS_FOLDER = '../main/weights/12.07.21'\n",
    "\n",
    "pca_filename = 'pca.pkl' \n",
    "\n",
    "with open(os.path.join(WEIGHTS_FOLDER, pca_filename), 'wb') as pickle_file:\n",
    "    pickle.dump(pca_transformer, pickle_file)"
   ]
  },
  {
   "cell_type": "code",
   "execution_count": 23,
   "metadata": {},
   "outputs": [],
   "source": [
    "X_val_pca = pca_transformer.transform(x_val[:,:, 0])\n",
    "X_test_pca = pca_transformer.transform(x_test[:,:, 0])"
   ]
  },
  {
   "cell_type": "code",
   "execution_count": 24,
   "metadata": {},
   "outputs": [
    {
     "name": "stdout",
     "output_type": "stream",
     "text": [
      "(30243, 420) (60487,)\n",
      "(9724, 420) (9724,)\n",
      "(4102, 420) (4102,)\n"
     ]
    }
   ],
   "source": [
    "# x_train = np.array(x_train)\n",
    "x_train = x_train.reshape((x_train.shape[0],x_train.shape[1] *x_train.shape[2] ))\n",
    "# y_train = np.array(y_train)\n",
    "# x_val = np.array(x_val)\n",
    "x_val = x_val.reshape((x_val.shape[0],x_val.shape[1] *x_val.shape[2] ))\n",
    "# y_val = np.array(y_val)\n",
    "# x_test = np.array(x_test)\n",
    "x_test = x_test.reshape((x_test.shape[0],x_test.shape[1] *x_test.shape[2] ))\n",
    "# y_test = np.array(y_test)\n",
    "\n",
    "print(x_train.shape, y_train.shape)\n",
    "print(x_val.shape, y_val.shape)\n",
    "print(x_test.shape, y_test.shape)"
   ]
  },
  {
   "cell_type": "code",
   "execution_count": 25,
   "metadata": {},
   "outputs": [
    {
     "data": {
      "text/plain": [
       "(30243, 425)"
      ]
     },
     "execution_count": 25,
     "metadata": {},
     "output_type": "execute_result"
    }
   ],
   "source": [
    "x_train = x_train.tolist()\n",
    "for i in range(len(X_pca)):\n",
    "    x_train[i].extend(X_pca[i])\n",
    "x_train = np.array(x_train)\n",
    "x_train.shape"
   ]
  },
  {
   "cell_type": "code",
   "execution_count": 26,
   "metadata": {},
   "outputs": [
    {
     "data": {
      "text/plain": [
       "(9724, 425)"
      ]
     },
     "execution_count": 26,
     "metadata": {},
     "output_type": "execute_result"
    }
   ],
   "source": [
    "x_val = x_val.tolist()\n",
    "for i in range(len(X_val_pca)):\n",
    "    x_val[i].extend(X_val_pca[i])\n",
    "x_val = np.array(x_val)\n",
    "x_val.shape"
   ]
  },
  {
   "cell_type": "code",
   "execution_count": 27,
   "metadata": {},
   "outputs": [
    {
     "data": {
      "text/plain": [
       "(4102, 425)"
      ]
     },
     "execution_count": 27,
     "metadata": {},
     "output_type": "execute_result"
    }
   ],
   "source": [
    "x_test = x_test.tolist()\n",
    "for i in range(len(X_test_pca)):\n",
    "    x_test[i].extend(X_test_pca[i])\n",
    "x_test = np.array(x_test)\n",
    "x_test.shape"
   ]
  },
  {
   "cell_type": "code",
   "execution_count": 28,
   "metadata": {},
   "outputs": [
    {
     "data": {
      "image/png": "[encoded data removed]",
      "text/plain": [
       "<Figure size 1080x360 with 1 Axes>"
      ]
     },
     "metadata": {},
     "output_type": "display_data"
    }
   ],
   "source": [
    "def plot_res(time, x, gt=None, pred=None):\n",
    "    t1, t2 = int(0.7*len(x)), int(0.9*len(x))\n",
    "    t1, t2 = time[t1], time[t2]\n",
    "    \n",
    "    plt.figure(figsize=(15, 5))\n",
    "#     plt.axvline(t1, c='black', label='train/val/test')\n",
    "#     plt.axvline(t2, c='black')\n",
    "    plt.plot(time, x, 'b-')\n",
    "    plt.scatter(time[gt == 1], x[gt == 1], s=90, c='g', label='gt')\n",
    "    plt.scatter(time[pred == 1], x[pred == 1], s=40, c='r', label='pred')\n",
    "    plt.legend(loc='best')\n",
    "    plt.show()\n",
    "    #plt.save(...)\n",
    " \n",
    "plot_res(np.array([1,2,3,4,5]), np.array([1,2,3,4,5]), gt=np.array([0,1,0,1,1]), pred=np.array([1,1,0,0,1]))"
   ]
  },
  {
   "cell_type": "code",
   "execution_count": 29,
   "metadata": {},
   "outputs": [],
   "source": [
    "def add_noize(a):\n",
    "    return a + np.random.normal(0,10, len(a))"
   ]
  },
  {
   "cell_type": "code",
   "execution_count": 32,
   "metadata": {},
   "outputs": [],
   "source": [
    "# !pip install catboost\n",
    "from catboost import CatBoostRegressor, Pool, CatBoostClassifier"
   ]
  },
  {
   "cell_type": "code",
   "execution_count": 33,
   "metadata": {},
   "outputs": [],
   "source": [
    "from catboost.metrics import F1\n",
    "f1_custom = F1(use_weights=False)"
   ]
  },
  {
   "cell_type": "code",
   "execution_count": 34,
   "metadata": {},
   "outputs": [
    {
     "name": "stdout",
     "output_type": "stream",
     "text": [
      "0:\tlearn: 0.5218784\ttest: 0.5937373\ttest1: 0.6061107\tbest: 0.6061107 (0)\ttotal: 125ms\tremaining: 2m 4s\n",
      "100:\tlearn: 0.7839542\ttest: 0.8105344\ttest1: 0.8186583\tbest: 0.8186583 (100)\ttotal: 3.78s\tremaining: 33.6s\n",
      "200:\tlearn: 0.8377867\ttest: 0.8274232\ttest1: 0.8375883\tbest: 0.8375883 (200)\ttotal: 7.27s\tremaining: 28.9s\n",
      "300:\tlearn: 0.8727405\ttest: 0.8295424\ttest1: 0.8435072\tbest: 0.8435072 (300)\ttotal: 10.7s\tremaining: 24.8s\n",
      "400:\tlearn: 0.8982273\ttest: 0.8299430\ttest1: 0.8513514\tbest: 0.8513514 (400)\ttotal: 14.5s\tremaining: 21.7s\n",
      "500:\tlearn: 0.9218452\ttest: 0.8320569\ttest1: 0.8522533\tbest: 0.8522533 (500)\ttotal: 19s\tremaining: 18.9s\n",
      "600:\tlearn: 0.9394096\ttest: 0.8281768\ttest1: 0.8535325\tbest: 0.8535325 (600)\ttotal: 23.3s\tremaining: 15.5s\n",
      "700:\tlearn: 0.9519811\ttest: 0.8270510\ttest1: 0.8525159\tbest: 0.8535325 (600)\ttotal: 27.7s\tremaining: 11.8s\n",
      "800:\tlearn: 0.9648936\ttest: 0.8276631\ttest1: 0.8513357\tbest: 0.8535325 (600)\ttotal: 32s\tremaining: 7.95s\n",
      "900:\tlearn: 0.9733065\ttest: 0.8284355\ttest1: 0.8531305\tbest: 0.8535325 (600)\ttotal: 36.1s\tremaining: 3.97s\n",
      "999:\tlearn: 0.9780294\ttest: 0.8299243\ttest1: 0.8495887\tbest: 0.8535325 (600)\ttotal: 40.3s\tremaining: 0us\n",
      "\n",
      "bestTest = 0.8535324526\n",
      "bestIteration = 600\n",
      "\n",
      "Shrink model to first 601 iterations.\n"
     ]
    },
    {
     "data": {
      "text/plain": [
       "<catboost.core.CatBoostClassifier at 0x1b16d5b5f88>"
      ]
     },
     "execution_count": 34,
     "metadata": {},
     "output_type": "execute_result"
    }
   ],
   "source": [
    "dataset_val = Pool(x_val, y_val)\n",
    "dataset_test = Pool(x_test, y_test)\n",
    "# взвесить классы!\n",
    "model = CatBoostClassifier(iterations=1000,\n",
    "#                           learning_rate=0.1,\n",
    "#                           depth=5,\n",
    "#                         max_depth=7,\n",
    "#                          n_estimators=1000,\n",
    "#                            l2_leaf_reg=2,\n",
    "#                            bootstrap_type='Bernoulli',\n",
    "                           use_best_model=True,\n",
    "                           class_weights=[0.143, 1-0.143],\n",
    "#                          loss_function='RMSE',\n",
    "#                          eval_metric='F1', #'AUC',\n",
    "                           eval_metric=f1_custom,\n",
    "                           metric_period=100,\n",
    "                          border_count=90, #.21905885520627, \n",
    "                           depth=5.0, \n",
    "                           l2_leaf_reg=5.1068065853115385, \n",
    "                           learning_rate=0.12611248771381028\n",
    "                          )\n",
    "\n",
    "model.fit(x_train, y_train[:len(y_train)//2],  eval_set=[dataset_val, dataset_test])"
   ]
  },
  {
   "cell_type": "code",
   "execution_count": 35,
   "metadata": {},
   "outputs": [],
   "source": [
    "weights_filename = 'cardiospike.cbm'\n",
    "model.save_model(os.path.join(WEIGHTS_FOLDER, weights_filename))"
   ]
  },
  {
   "cell_type": "markdown",
   "metadata": {},
   "source": [
    "# Предсказание"
   ]
  },
  {
   "cell_type": "code",
   "execution_count": 36,
   "metadata": {
    "scrolled": true
   },
   "outputs": [
    {
     "data": {
      "application/vnd.jupyter.widget-view+json": {
       "model_id": "4c752e2de3354cd186e79350fe5cd102",
       "version_major": 2,
       "version_minor": 0
      },
      "text/plain": [
       "HBox(children=(FloatProgress(value=0.0, max=46.0), HTML(value='')))"
      ]
     },
     "metadata": {},
     "output_type": "display_data"
    },
    {
     "name": "stdout",
     "output_type": "stream",
     "text": [
      "81\n",
      "168\n",
      "243\n",
      "135\n",
      "9\n",
      "11\n",
      "157\n",
      "212\n",
      "166\n",
      "154\n",
      "227\n",
      "165\n",
      "37\n",
      "274\n",
      "211\n",
      "200\n",
      "183\n",
      "26\n",
      "175\n",
      "50\n",
      "141\n",
      "198\n",
      "114\n",
      "181\n",
      "171\n",
      "83\n",
      "8\n",
      "256\n",
      "249\n",
      "142\n",
      "210\n",
      "106\n",
      "248\n",
      "255\n",
      "28\n",
      "192\n",
      "18\n",
      "267\n",
      "105\n",
      "95\n",
      "94\n",
      "269\n",
      "56\n",
      "98\n",
      "184\n",
      "176\n",
      "\n"
     ]
    }
   ],
   "source": [
    "\n",
    "# seq_ids_train, seq_ids_val, seq_ids_test \n",
    "for id_ in tqdm(test.id.unique()):\n",
    "    print(id_)\n",
    "#     time, x, x_data, y = get_slices_check(id_, len_=10)\n",
    "    time, x_data, x, y = get_check(test, id_, chunk_len=CHUNK_LEN) \n",
    "    pca = pca_transformer.transform(x_data[:,:, 0])\n",
    "    x_data = x_data.reshape((x_data.shape[0],x_data.shape[1] *x_data.shape[2] ))\n",
    "    \n",
    "    x_data = x_data.tolist()\n",
    "    for i in range(len(pca)):\n",
    "        x_data[i].extend(pca[i])\n",
    "    x_data = np.array(x_data)\n",
    "\n",
    "    pred = model.predict(x_data)#[11:-11]\n",
    "    \n",
    "    \n",
    "    test.y[test.id == id_] = pred \n",
    "#     pred = [0,0,0,0,0] + list(pred) + [0,0,0,0,0]\n",
    "    pred = np.array(pred)\n",
    "#     print(pred)\n",
    "#     print(len(test[test.id == id_]), len(x_data), len(pred))\n",
    "#     print(time.shape,x_data.shape, x.shape, y.shape, pred.shape)\n",
    "#     plot_res(test[test.id == id_].time.values, test[test.id == id_].x.values, \n",
    "#              gt=test[test.id == id_].y.values, pred=pred)"
   ]
  },
  {
   "cell_type": "code",
   "execution_count": null,
   "metadata": {},
   "outputs": [],
   "source": []
  }
 ],
 "metadata": {
  "kernelspec": {
   "display_name": "Python 3",
   "language": "python",
   "name": "python3"
  },
  "language_info": {
   "codemirror_mode": {
    "name": "ipython",
    "version": 3
   },
   "file_extension": ".py",
   "mimetype": "text/x-python",
   "name": "python",
   "nbconvert_exporter": "python",
   "pygments_lexer": "ipython3",
   "version": "3.7.7"
  }
 },
 "nbformat": 4,
 "nbformat_minor": 4
}
